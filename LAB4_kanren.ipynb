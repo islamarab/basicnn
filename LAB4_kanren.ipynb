{
 "cells": [
  {
   "cell_type": "code",
   "execution_count": 2,
   "metadata": {},
   "outputs": [
    {
     "name": "stdout",
     "output_type": "stream",
     "text": [
      "Requirement already satisfied: kanren in c:\\users\\i.nuradin\\.conda\\envs\\forlearn\\lib\\site-packages (0.2.3)\n",
      "Requirement already satisfied: multipledispatch in c:\\users\\i.nuradin\\.conda\\envs\\forlearn\\lib\\site-packages (from kanren) (0.6.0)\n",
      "Requirement already satisfied: unification in c:\\users\\i.nuradin\\.conda\\envs\\forlearn\\lib\\site-packages (from kanren) (0.2.2)\n",
      "Requirement already satisfied: toolz in c:\\users\\i.nuradin\\.conda\\envs\\forlearn\\lib\\site-packages (from kanren) (0.10.0)\n",
      "Requirement already satisfied: six in c:\\users\\i.nuradin\\.conda\\envs\\forlearn\\lib\\site-packages (from multipledispatch->kanren) (1.14.0)\n"
     ]
    }
   ],
   "source": [
    "!pip install kanren"
   ]
  },
  {
   "cell_type": "code",
   "execution_count": 4,
   "metadata": {},
   "outputs": [],
   "source": [
    "from kanren import *\n",
    "from kanren.core import lall"
   ]
  },
  {
   "cell_type": "code",
   "execution_count": 5,
   "metadata": {},
   "outputs": [],
   "source": [
    "def left(q, p, list):\n",
    "    return membero((q,p), zip(list, list[1:]))\n",
    "\n",
    "def next(q, p, list):\n",
    "    return conde([left(q, p, list)], [left(p, q, list)])"
   ]
  },
  {
   "cell_type": "code",
   "execution_count": 6,
   "metadata": {},
   "outputs": [],
   "source": [
    "ships=var()"
   ]
  },
  {
   "cell_type": "markdown",
   "metadata": {},
   "source": [
    "Каждому кораблю — в свой порт\n",
    "В порте пять кораблей.\n",
    "1. Греческий корабль отчаливает в шесть. Он везет кофе.\n",
    "2. У корабля, который в середине — черная труба.\n",
    "3. Английский корабль отплывает в девять.\n",
    "4. Французский корабль, у которого синяя труба, пришвартован слева от корабля, который везет кофе.\n",
    "5. Справа от корабля, на котором груз какао, корабль, который плывет в Марсель.\n",
    "6. Корабль под бразильским флагом направляется на Манилы.\n",
    "7. Рядом с кораблем, на котором рис, — корабль с зеленой трубой.\n",
    "8. Корабль, плывущий в Геную, отходит в пять.\n",
    "9. Испанский корабль отплывает в семь и находится справа от корабля, плывущего в Марсель.\n",
    "10. Корабль с красной трубой направляется в Гамбург.\n",
    "11. Рядом с кораблем, который отчаливает в семь, корабль с белой трубой.\n",
    "12. На крайнем корабле — зерно.\n",
    "13. Корабль с черной трубой отплывает в восемь.\n",
    "14. Корабль с зерном пришвартован рядом с кораблем, на котором груз риса.\n",
    "15. Корабль, следующий до Гамбурга, отчаливает в 6.\n",
    "\n",
    "\n",
    "\n",
    "Вопрос:\n",
    "Который корабль плывет в Порт-Саид? Который гружен чаем?"
   ]
  },
  {
   "cell_type": "code",
   "execution_count": 9,
   "metadata": {},
   "outputs": [],
   "source": [
    "rules = lall(\n",
    "    #lall - goal conjunction, lany - disjunction\n",
    "    \n",
    "    #1.Флаг, 2.что везет, 3.отчаливает во сколько, 4.куда, 5.цвет трубы\n",
    "    (eq, (var(), var(), var(), var(), var()), ships),\n",
    "    (membero,('Греческий', 'кофе', '6', var(), var()), ships),\n",
    "    (eq, (var(), var(), (var(), var(), var(), var(), 'черная'), var(), var()), ships),\n",
    "    (membero,('Английский', var(), '9', var(), var()), ships),\n",
    "    (left, (var(), 'кофе', var(), var(), var()), ('Французский', var(), var(), var(), 'синяя'), ships),\n",
    "    (left, (var(), var(), var(), 'Марсель', var()), (var(), 'какао', var(), var(), var()), ships),\n",
    "    (membero,('Бразильский', var(), var(), 'Манилы', var()), ships),\n",
    "    (next,(var(), var(), var(), var(), 'зеленая'), (var(), 'рис', var(), var(), var()), ships),\n",
    "    (membero,(var(), var(), '5', 'Генуя', var()), ships),\n",
    "    (left,('Испанский', var(), '7', var(), var()), (var(), var(), var(), 'Марсель', var()), ships),\n",
    "    (membero,(var(), var(), var(), 'Гамбург', 'красная'), ships),\n",
    "    (next,(var(), var(), var(), var(), 'белая'),(var(), var(), '7', var(), var()), ships),\n",
    "    (eq,((var(), 'зерно', var(), var(), var()), var(), var(), var(), var()), ships),\n",
    "    (membero,(var(), var(), '8', var(), 'черная'), ships),\n",
    "    (next,(var(), 'зерно', var(), var(), var()),(var(), 'рис', var(), var(), var()), ships),\n",
    "    (membero,(var(), var(), '6', 'Гамбург', var()), ships),\n",
    "    \n",
    "    (membero,(var(), var(), var(), 'Порт-Саид', var()), ships),\n",
    "    (membero,(var(), 'чай', var(), var(), var()), ships)\n",
    ")"
   ]
  },
  {
   "cell_type": "code",
   "execution_count": 10,
   "metadata": {},
   "outputs": [],
   "source": [
    "solutions = run(2, ships, rules)"
   ]
  },
  {
   "cell_type": "code",
   "execution_count": 11,
   "metadata": {},
   "outputs": [
    {
     "data": {
      "text/plain": [
       "((('Испанский', 'зерно', '7', 'Порт-Саид', 'зеленая'),\n",
       "  ('Английский', 'рис', '9', 'Марсель', 'белая'),\n",
       "  ('Бразильский', 'какао', '8', 'Манилы', 'черная'),\n",
       "  ('Греческий', 'кофе', '6', 'Гамбург', 'красная'),\n",
       "  ('Французский', 'чай', '5', 'Генуя', 'синяя')),)"
      ]
     },
     "execution_count": 11,
     "metadata": {},
     "output_type": "execute_result"
    }
   ],
   "source": [
    "solutions"
   ]
  },
  {
   "cell_type": "code",
   "execution_count": 35,
   "metadata": {},
   "outputs": [
    {
     "name": "stdout",
     "output_type": "stream",
     "text": [
      "\n",
      "Флаг\t       Что везет\t       отчаливает во сколько\t       куда\t       цвет трубы\n",
      "====================================================================================================\n",
      "\n",
      "Испанский\t        зерно\t        7\t        Порт-Саид\t        зеленая\n",
      "\n",
      "Английский\t        рис\t        9\t        Марсель\t        белая\n",
      "\n",
      "Бразильский\t        какао\t        8\t        Манилы\t        черная\n",
      "\n",
      "Греческий\t        кофе\t        6\t        Гамбург\t        красная\n",
      "\n",
      "Французский\t        чай\t        5\t        Генуя\t        синяя\n"
     ]
    }
   ],
   "source": [
    "attribs = ['Флаг', 'Что везет', 'отчаливает во сколько', 'куда', 'цвет трубы']\n",
    "print('\\n' + '\\t       '.join(attribs))\n",
    "print('=' * 100)\n",
    "for item in solutions[0]:\n",
    "    print('')\n",
    "    print('\\t        '.join([str(x) for x in item]))"
   ]
  }
 ],
 "metadata": {
  "kernelspec": {
   "display_name": "Python 3",
   "language": "python",
   "name": "python3"
  },
  "language_info": {
   "codemirror_mode": {
    "name": "ipython",
    "version": 3
   },
   "file_extension": ".py",
   "mimetype": "text/x-python",
   "name": "python",
   "nbconvert_exporter": "python",
   "pygments_lexer": "ipython3",
   "version": "3.6.10"
  }
 },
 "nbformat": 4,
 "nbformat_minor": 4
}
